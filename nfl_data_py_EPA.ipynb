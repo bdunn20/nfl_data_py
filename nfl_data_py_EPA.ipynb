{
  "nbformat": 4,
  "nbformat_minor": 0,
  "metadata": {
    "colab": {
      "provenance": [],
      "authorship_tag": "ABX9TyMhZadRAVGhg3NoJj9YYGae",
      "include_colab_link": true
    },
    "kernelspec": {
      "name": "python3",
      "display_name": "Python 3"
    },
    "language_info": {
      "name": "python"
    }
  },
  "cells": [
    {
      "cell_type": "markdown",
      "metadata": {
        "id": "view-in-github",
        "colab_type": "text"
      },
      "source": [
        "<a href=\"https://colab.research.google.com/github/bdunn20/nfl_data_py/blob/main/nfl_data_py_EPA.ipynb\" target=\"_parent\"><img src=\"https://colab.research.google.com/assets/colab-badge.svg\" alt=\"Open In Colab\"/></a>"
      ]
    },
    {
      "cell_type": "markdown",
      "source": [
        "# nfl_data_py Starter File"
      ],
      "metadata": {
        "id": "1Sk5gJWQ01qe"
      }
    },
    {
      "cell_type": "markdown",
      "source": [
        "## Import/Install"
      ],
      "metadata": {
        "id": "AxOT4Sc401p1"
      }
    },
    {
      "cell_type": "code",
      "source": [
        "!pip install nfl_data_py"
      ],
      "metadata": {
        "colab": {
          "base_uri": "https://localhost:8080/"
        },
        "id": "8EPEQ-zqpjiy",
        "outputId": "544e0269-0e53-414a-9573-ebf04853ff10"
      },
      "execution_count": null,
      "outputs": [
        {
          "output_type": "stream",
          "name": "stdout",
          "text": [
            "Collecting nfl_data_py\n",
            "  Downloading nfl_data_py-0.3.1.tar.gz (16 kB)\n",
            "  Preparing metadata (setup.py) ... \u001b[?25l\u001b[?25hdone\n",
            "Requirement already satisfied: pandas>1 in /usr/local/lib/python3.10/dist-packages (from nfl_data_py) (1.5.3)\n",
            "Requirement already satisfied: appdirs>1 in /usr/local/lib/python3.10/dist-packages (from nfl_data_py) (1.4.4)\n",
            "Collecting fastparquet>0.5 (from nfl_data_py)\n",
            "  Downloading fastparquet-2023.8.0-cp310-cp310-manylinux_2_17_x86_64.manylinux2014_x86_64.whl (1.7 MB)\n",
            "\u001b[2K     \u001b[90m━━━━━━━━━━━━━━━━━━━━━━━━━━━━━━━━━━━━━━━━\u001b[0m \u001b[32m1.7/1.7 MB\u001b[0m \u001b[31m10.4 MB/s\u001b[0m eta \u001b[36m0:00:00\u001b[0m\n",
            "\u001b[?25hCollecting python-snappy>0.5 (from nfl_data_py)\n",
            "  Downloading python_snappy-0.6.1-cp310-cp310-manylinux_2_12_x86_64.manylinux2010_x86_64.whl (55 kB)\n",
            "\u001b[2K     \u001b[90m━━━━━━━━━━━━━━━━━━━━━━━━━━━━━━━━━━━━━━━━\u001b[0m \u001b[32m55.9/55.9 kB\u001b[0m \u001b[31m4.3 MB/s\u001b[0m eta \u001b[36m0:00:00\u001b[0m\n",
            "\u001b[?25hRequirement already satisfied: numpy>=1.20.3 in /usr/local/lib/python3.10/dist-packages (from fastparquet>0.5->nfl_data_py) (1.23.5)\n",
            "Collecting cramjam>=2.3 (from fastparquet>0.5->nfl_data_py)\n",
            "  Downloading cramjam-2.7.0-cp310-cp310-manylinux_2_17_x86_64.manylinux2014_x86_64.whl (1.6 MB)\n",
            "\u001b[2K     \u001b[90m━━━━━━━━━━━━━━━━━━━━━━━━━━━━━━━━━━━━━━━━\u001b[0m \u001b[32m1.6/1.6 MB\u001b[0m \u001b[31m19.0 MB/s\u001b[0m eta \u001b[36m0:00:00\u001b[0m\n",
            "\u001b[?25hRequirement already satisfied: fsspec in /usr/local/lib/python3.10/dist-packages (from fastparquet>0.5->nfl_data_py) (2023.6.0)\n",
            "Requirement already satisfied: packaging in /usr/local/lib/python3.10/dist-packages (from fastparquet>0.5->nfl_data_py) (23.1)\n",
            "Requirement already satisfied: python-dateutil>=2.8.1 in /usr/local/lib/python3.10/dist-packages (from pandas>1->nfl_data_py) (2.8.2)\n",
            "Requirement already satisfied: pytz>=2020.1 in /usr/local/lib/python3.10/dist-packages (from pandas>1->nfl_data_py) (2023.3.post1)\n",
            "Requirement already satisfied: six>=1.5 in /usr/local/lib/python3.10/dist-packages (from python-dateutil>=2.8.1->pandas>1->nfl_data_py) (1.16.0)\n",
            "Building wheels for collected packages: nfl_data_py\n",
            "  Building wheel for nfl_data_py (setup.py) ... \u001b[?25l\u001b[?25hdone\n",
            "  Created wheel for nfl_data_py: filename=nfl_data_py-0.3.1-py3-none-any.whl size=13187 sha256=5a5200b1f94ba3e18bef6263de7098c980fa3b57db082b43e1f0e561e0ee66b9\n",
            "  Stored in directory: /root/.cache/pip/wheels/ca/2e/d2/4def312ac7c070e1c0002e91ecc6923481a86c3ebd5b2c5413\n",
            "Successfully built nfl_data_py\n",
            "Installing collected packages: python-snappy, cramjam, fastparquet, nfl_data_py\n",
            "Successfully installed cramjam-2.7.0 fastparquet-2023.8.0 nfl_data_py-0.3.1 python-snappy-0.6.1\n"
          ]
        }
      ]
    },
    {
      "cell_type": "code",
      "execution_count": null,
      "metadata": {
        "id": "LFUduV-L0YaT"
      },
      "outputs": [],
      "source": [
        "import pandas as pd\n",
        "import numpy as np\n",
        "import nfl_data_py as nfl"
      ]
    },
    {
      "cell_type": "code",
      "source": [
        "# import matplotlib.pyplot as plt\n",
        "# import plotly.express as px\n",
        "# import seaborn as sns"
      ],
      "metadata": {
        "id": "K2DSFODkPLSp"
      },
      "execution_count": null,
      "outputs": []
    },
    {
      "cell_type": "markdown",
      "source": [
        "[nfl_data_py Github](https://github.com/cooperdff/nfl_data_py)"
      ],
      "metadata": {
        "id": "1fNknBQf4UcW"
      }
    },
    {
      "cell_type": "code",
      "source": [
        "#show all columns\n",
        "pd.set_option('display.max_columns', None)"
      ],
      "metadata": {
        "id": "a9kYEmLW5h8D"
      },
      "execution_count": null,
      "outputs": []
    },
    {
      "cell_type": "markdown",
      "source": [
        "## nfl_data_py"
      ],
      "metadata": {
        "id": "HWxtXVRw0-qD"
      }
    },
    {
      "cell_type": "code",
      "source": [
        "help(nfl)"
      ],
      "metadata": {
        "colab": {
          "base_uri": "https://localhost:8080/"
        },
        "id": "Wpf58SLjQD_l",
        "outputId": "39f1ac84-43d8-4675-bf32-92d6670cc334"
      },
      "execution_count": null,
      "outputs": [
        {
          "output_type": "stream",
          "name": "stdout",
          "text": [
            "Help on package nfl_data_py:\n",
            "\n",
            "NAME\n",
            "    nfl_data_py\n",
            "\n",
            "DESCRIPTION\n",
            "    nfl_data_py - a Python package for working with NFL data\n",
            "    =========================================================\n",
            "    \n",
            "    **nfl_data_py** is a Python package that streamlines the importing\n",
            "    of a variety of different American football datasets. It also includes\n",
            "    tables to assist with the merging of datasets from various sources.\n",
            "    \n",
            "    Functions\n",
            "    ---------\n",
            "    import_pbp_data() - import play-by-play data\n",
            "    import_weekly_data() - import weekly player stats\n",
            "    import_seasonal_data() - import seasonal player stats\n",
            "    import_snap_counts() - import weekly snap count stats\n",
            "    import_ngs_data() - import NGS advanced analytics\n",
            "    import_qbr() - import QBR for NFL or college\n",
            "    import_pfr() - import advanced passing stats from PFR\n",
            "    import_officials() - import details on game officials\n",
            "    import_schedules() - import weekly teams schedules\n",
            "    import_rosters() - import team rosters\n",
            "    import_players() - import descriptive data for all players\n",
            "    import_depth_charts() - import team depth charts\n",
            "    import_injuries() - import team injury reports\n",
            "    import_ids() - import mapping of player ids for more major sites\n",
            "    import_contracts() - import contract data\n",
            "    import_win_totals() - import win total lines for teams\n",
            "    import_sc_lines() - import weekly betting lines for teams\n",
            "    import_draft_picks() - import draft pick history\n",
            "    import_draft_values() - import draft value models by pick\n",
            "    import_combine_data() - import combine stats\n",
            "    see_pbp_cols() - return list of play-by-play columns\n",
            "    see_weekly_cols() - return list of weekly stat columns\n",
            "    import_team_desc() - import descriptive data for team viz\n",
            "    cache_pbp() - save pbp files locally to allow for faster loading\n",
            "    clean_nfl_data() - clean df by aligning common name diffs\n",
            "\n",
            "PACKAGE CONTENTS\n",
            "\n",
            "\n",
            "FUNCTIONS\n",
            "    cache_pbp(years, downcast=True, alt_path=None)\n",
            "        Cache pbp data in local location to allow for faster loading\n",
            "        \n",
            "        Args:\n",
            "            years (List[int]): years to cache PBP data for\n",
            "            downcast (bool): convert float64 to float32, default True\n",
            "            alt_path (str): path for cache if not nfl_data_py default\n",
            "        Returns:\n",
            "            DataFrame\n",
            "    \n",
            "    clean_nfl_data(df)\n",
            "        Cleans descriptive data for players and teams to help with consistency across datasets\n",
            "        \n",
            "        Args:\n",
            "            df (DataFrame): DataFrame to be cleaned\n",
            "            \n",
            "        Returns:\n",
            "            DataFrame\n",
            "    \n",
            "    import_combine_data(years=None, positions=None)\n",
            "        Import combine results for all position groups\n",
            "        \n",
            "        Args:\n",
            "            years (List[str]): years to get combine data for\n",
            "            positions (List[str]): list of positions to get data for\n",
            "            \n",
            "        Returns:\n",
            "            DataFrame\n",
            "    \n",
            "    import_contracts()\n",
            "        Imports historical contract data\n",
            "        \n",
            "        Returns:\n",
            "            DataFrame\n",
            "    \n",
            "    import_depth_charts(years)\n",
            "        Imports team depth charts\n",
            "        \n",
            "        Args:\n",
            "            years (List[int]): years to return depth charts for, optional\n",
            "        Returns:\n",
            "            DataFrame\n",
            "    \n",
            "    import_draft_picks(years=None)\n",
            "        Import draft picks\n",
            "        \n",
            "        Args:\n",
            "            years (List[int]): years to get draft picks for\n",
            "        \n",
            "        Returns:\n",
            "            DataFrame\n",
            "    \n",
            "    import_draft_values(picks=None)\n",
            "        Import draft pick values from variety of models\n",
            "        \n",
            "        Args:\n",
            "            picks (List[int]): subset of picks to return values for\n",
            "            \n",
            "        Returns:\n",
            "            DataFrame\n",
            "    \n",
            "    import_ids(columns=None, ids=None)\n",
            "        Import mapping table of ids for most major data providers\n",
            "        \n",
            "        Args:\n",
            "            columns (List[str]): list of columns to return\n",
            "            ids (List[str]): list of specific ids to return\n",
            "            \n",
            "        Returns:\n",
            "            DataFrame\n",
            "    \n",
            "    import_injuries(years)\n",
            "        Imports team injury reports\n",
            "        \n",
            "        Args:\n",
            "            years (List[int]): years to return injury reports for, optional\n",
            "        Returns:\n",
            "            DataFrame\n",
            "    \n",
            "    import_ngs_data(stat_type, years=None)\n",
            "        Imports seasonal NGS data\n",
            "        \n",
            "        Args:\n",
            "            stat_type (str): type of stats to pull (receiving, passing, rushing)\n",
            "            years (List[int]): years to get PBP data for, optional\n",
            "        Returns:\n",
            "            DataFrame\n",
            "    \n",
            "    import_officials(years=None)\n",
            "        Import game officials\n",
            "        \n",
            "        Args:\n",
            "            years (List[int]): years to get officials for\n",
            "            \n",
            "        Returns:\n",
            "            DataFrame\n",
            "    \n",
            "    import_pbp_data(years, columns=None, include_participation=True, downcast=True, cache=False, alt_path=None)\n",
            "        Imports play-by-play data\n",
            "        \n",
            "        Args:\n",
            "            years (List[int]): years to get PBP data for\n",
            "            columns (List[str]): only return these columns\n",
            "            include_participation (bool): whether to include participation stats or not\n",
            "            downcast (bool): convert float64 to float32, default True\n",
            "            cache (bool): whether to use local cache as source of pbp data\n",
            "            alt_path (str): path for cache if not nfl_data_py default\n",
            "        Returns:\n",
            "            DataFrame\n",
            "    \n",
            "    import_pfr(s_type, years=None)\n",
            "        Import PFR advanced statistics\n",
            "        \n",
            "        Args:\n",
            "            s_type (str): must be one of pass, rec, rush\n",
            "            years (List[int]): years to return data for, optional\n",
            "        Returns:\n",
            "            DataFrame\n",
            "    \n",
            "    import_players()\n",
            "        Import descriptive data for all players\n",
            "        \n",
            "        Returns:\n",
            "            DataFrame\n",
            "    \n",
            "    import_qbr(years=None, level='nfl', frequency='season')\n",
            "        Import NFL or college QBR data\n",
            "        \n",
            "        Args:\n",
            "            years (List[int]): list of years to return data for, optional\n",
            "            level (str): level to pull data, nfl or college, default to nfl\n",
            "            frequency (str): frequency to pull data, weekly or season, default to season\n",
            "        Returns:\n",
            "            DataFrame\n",
            "    \n",
            "    import_rosters(years, columns=None)\n",
            "        Imports roster data\n",
            "        \n",
            "        Args:\n",
            "            years (List[int]): years to get rosters for\n",
            "            columns (List[str]): list of columns to return with DataFrame\n",
            "            \n",
            "        Returns:\n",
            "            DataFrame\n",
            "    \n",
            "    import_sc_lines(years=None)\n",
            "        Import weekly scoring lines\n",
            "        \n",
            "        Args:\n",
            "            years (List[int]): years to get scoring lines for\n",
            "           \n",
            "        Returns:\n",
            "            DataFrame\n",
            "    \n",
            "    import_schedules(years)\n",
            "        Import schedules\n",
            "        \n",
            "        Args:\n",
            "            years (List[int]): years to get schedules for\n",
            "            \n",
            "        Returns:\n",
            "            DataFrame\n",
            "    \n",
            "    import_seasonal_data(years, s_type='REG')\n",
            "        Imports seasonal player data\n",
            "        \n",
            "        Args:\n",
            "            years (List[int]): years to get seasonal data for\n",
            "            s_type (str): season type to include in average ('ALL','REG','POST')\n",
            "        Returns:\n",
            "            DataFrame\n",
            "    \n",
            "    import_snap_counts(years)\n",
            "        Import snap count data for individual players\n",
            "        \n",
            "        Args:\n",
            "            years (List[int]): years to return snap counts for\n",
            "        Returns:\n",
            "            DataFrame\n",
            "    \n",
            "    import_team_desc()\n",
            "        Import team descriptive data\n",
            "        \n",
            "        Returns:\n",
            "            DataFrame\n",
            "    \n",
            "    import_weekly_data(years, columns=None, downcast=True)\n",
            "        Imports weekly player data\n",
            "        \n",
            "        Args:\n",
            "            years (List[int]): years to get weekly data for\n",
            "            columns (List[str]): only return these columns\n",
            "            downcast (bool): convert float64 to float32, default True\n",
            "        Returns:\n",
            "            DataFrame\n",
            "    \n",
            "    import_win_totals(years)\n",
            "        Import win total projections\n",
            "        \n",
            "        Args:\n",
            "            years (List[int]): years to get win totals for\n",
            "            \n",
            "        Returns:\n",
            "            DataFrame\n",
            "    \n",
            "    see_pbp_cols()\n",
            "        Identifies list of columns in pbp data\n",
            "        \n",
            "        Returns:\n",
            "            list\n",
            "    \n",
            "    see_weekly_cols()\n",
            "        Identifies list of columns in weekly data\n",
            "        \n",
            "        Returns:\n",
            "            list\n",
            "\n",
            "DATA\n",
            "    name = 'nfl_data_py'\n",
            "\n",
            "FILE\n",
            "    /usr/local/lib/python3.10/dist-packages/nfl_data_py/__init__.py\n",
            "\n",
            "\n"
          ]
        }
      ]
    }
  ]
}